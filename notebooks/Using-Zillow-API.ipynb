{
 "cells": [
  {
   "cell_type": "code",
   "execution_count": 4,
   "metadata": {
    "collapsed": false
   },
   "outputs": [],
   "source": [
    "from bs4 import BeautifulSoup\n",
    "import requests\n",
    "import pandas as pd"
   ]
  },
  {
   "cell_type": "code",
   "execution_count": 9,
   "metadata": {
    "collapsed": false
   },
   "outputs": [],
   "source": [
    "ZWSID = 'X1-ZWz1fjz9e5zy8b_68qz7'\n",
    "n = 5\n",
    "n = str(n)\n",
    "url = 'http://www.zillow.com/webservice/GetDeepComps.htm?zws-id=<ZWSID<&zpid=' + ZWSID + '&count=' + n"
   ]
  },
  {
   "cell_type": "code",
   "execution_count": 10,
   "metadata": {
    "collapsed": false
   },
   "outputs": [
    {
     "name": "stdout",
     "output_type": "stream",
     "text": [
      "http://www.zillow.com/webservice/GetDeepComps.htm?zws-id=<ZWSID<&zpid=X1-ZWz1fjz9e5zy8b_68qz7&count=5\n"
     ]
    }
   ],
   "source": [
    "print(ur"
   ]
  },
  {
   "cell_type": "code",
   "execution_count": 15,
   "metadata": {
    "collapsed": false
   },
   "outputs": [],
   "source": [
    "r  = requests.get(url)\n",
    "data = r.text\n",
    "soup = BeautifulSoup(data, 'lxml')\n"
   ]
  },
  {
   "cell_type": "code",
   "execution_count": 17,
   "metadata": {
    "collapsed": false
   },
   "outputs": [
    {
     "name": "stdout",
     "output_type": "stream",
     "text": [
      "<?xml version=\"1.0\" encoding=\"utf-8\"?><html><body><comps:comps xmlns:comps=\"http://www.zillow.com/static/xsd/Comps.xsd\" xmlns:xsi=\"http://www.w3.org/2001/XMLSchema-instance\" xsi:schemalocation=\"http://www.zillow.com/static/xsd/Comps.xsd http://www.zillowstatic.com/vstatic/a7043fc/static/xsd/Comps.xsd\"><request><zpid>X1-ZWz1fjz9e5zy8b_68qz7</zpid><count>5</count></request><message><text>Error: invalid or missing zpid parameter</text><code>500</code></message></comps:comps><!-- H:002  T:0ms  S:130  R:Thu Dec 08 18:05:34 PST 2016  B:5.0.37129-master.14ddae3~hotfix_pre.f5afe55 --></body></html>\n"
     ]
    }
   ],
   "source": [
    "print (soup)"
   ]
  },
  {
   "cell_type": "code",
   "execution_count": null,
   "metadata": {
    "collapsed": true
   },
   "outputs": [],
   "source": []
  }
 ],
 "metadata": {
  "anaconda-cloud": {},
  "kernelspec": {
   "display_name": "Python [default]",
   "language": "python",
   "name": "python3"
  },
  "language_info": {
   "codemirror_mode": {
    "name": "ipython",
    "version": 3
   },
   "file_extension": ".py",
   "mimetype": "text/x-python",
   "name": "python",
   "nbconvert_exporter": "python",
   "pygments_lexer": "ipython3",
   "version": "3.5.2"
  }
 },
 "nbformat": 4,
 "nbformat_minor": 1
}
