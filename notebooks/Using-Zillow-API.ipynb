{
 "cells": [
  {
   "cell_type": "code",
   "execution_count": 1,
   "metadata": {
    "collapsed": false
   },
   "outputs": [],
   "source": [
    "from bs4 import BeautifulSoup\n",
    "import requests\n",
    "import pandas as pd"
   ]
  },
  {
   "cell_type": "code",
   "execution_count": 2,
   "metadata": {
    "collapsed": false
   },
   "outputs": [],
   "source": [
    "ZWSID = 'X1-ZWz1fjz9e5zy8b_68qz7'\n",
    "zpid = str(48749425)\n",
    "n = 5\n",
    "n = str(n)\n",
    "url = 'http://www.zillow.com/webservice/GetDeepComps.htm?zws-id='+ ZWSID +'&zpid=' + zpid + '&count=' + n"
   ]
  },
  {
   "cell_type": "code",
   "execution_count": 3,
   "metadata": {
    "collapsed": false
   },
   "outputs": [],
   "source": [
    "r  = requests.get(url)\n",
    "data = r.text\n",
    "soup = BeautifulSoup(data, \"lxml-xml\")\n"
   ]
  },
  {
   "cell_type": "code",
   "execution_count": 20,
   "metadata": {
    "collapsed": false
   },
   "outputs": [
    {
     "name": "stdout",
     "output_type": "stream",
     "text": [
      "<?xml version=\"1.0\" encoding=\"utf-8\"?>\n",
      "<Comps:comps xmlns:Comps=\"http://www.zillow.com/static/xsd/Comps.xsd\" xmlns:xsi=\"http://www.w3.org/2001/XMLSchema-instance\" xsi:schemaLocation=\"http://www.zillow.com/static/xsd/Comps.xsd http://www.zillowstatic.com/vstatic/a7043fc/static/xsd/Comps.xsd\"><request><zpid>48749425</zpid><count>5</count></request><message><text>Request successfully processed</text><code>0</code></message><response><properties><principal><zpid>48749425</zpid><links><homedetails>http://www.zillow.com/homedetails/2114-Bigelow-Ave-N-Seattle-WA-98109/48749425_zpid/</homedetails><graphsanddata>http://www.zillow.com/homedetails/2114-Bigelow-Ave-N-Seattle-WA-98109/48749425_zpid/#charts-and-data</graphsanddata><mapthishome>http://www.zillow.com/homes/48749425_zpid/</mapthishome><comparables>http://www.zillow.com/homes/comps/48749425_zpid/</comparables></links><address><street>2114 Bigelow Ave N</street><zipcode>98109</zipcode><city>Seattle</city><state>WA</state><latitude>47.637933</latitude><longitude>-122.347938</longitude></address><taxAssessmentYear>2015</taxAssessmentYear><taxAssessment>1271000.0</taxAssessment><yearBuilt>1924</yearBuilt><lotSizeSqFt>4680</lotSizeSqFt><finishedSqFt>3470</finishedSqFt><bathrooms>3.0</bathrooms><bedrooms>4</bedrooms><lastSoldDate>11/26/2008</lastSoldDate><lastSoldPrice currency=\"USD\">1025000</lastSoldPrice><zestimate><amount currency=\"USD\">1525865</amount><last-updated>12/11/2016</last-updated><oneWeekChange deprecated=\"true\"/><valueChange currency=\"USD\" duration=\"30\">-37944</valueChange><valuationRange><low currency=\"USD\">1449572</low><high currency=\"USD\">1602158</high></valuationRange><percentile>96</percentile></zestimate><localRealEstate><region id=\"271856\" name=\"East Queen Anne\" type=\"neighborhood\"><zindexValue>821,600</zindexValue><links><overview>http://www.zillow.com/local-info/WA-Seattle/East-Queen-Anne/r_271856/</overview><forSaleByOwner>http://www.zillow.com/east-queen-anne-seattle-wa/fsbo/</forSaleByOwner><forSale>http://www.zillow.com/east-queen-anne-seattle-wa/</forSale></links></region></localRealEstate></principal><comparables><comp score=\"7.0\"><zpid>48689859</zpid><links><homedetails>http://www.zillow.com/homedetails/409-Garfield-St-Seattle-WA-98109/48689859_zpid/</homedetails><graphsanddata>http://www.zillow.com/homedetails/409-Garfield-St-Seattle-WA-98109/48689859_zpid/#charts-and-data</graphsanddata><mapthishome>http://www.zillow.com/homes/48689859_zpid/</mapthishome><comparables>http://www.zillow.com/homes/comps/48689859_zpid/</comparables></links><address><street>409 Garfield St</street><zipcode>98109</zipcode><city>Seattle</city><state>WA</state><latitude>47.632935</latitude><longitude>-122.34906</longitude></address><taxAssessmentYear>2015</taxAssessmentYear><taxAssessment>1017000.0</taxAssessment><yearBuilt>1927</yearBuilt><lotSizeSqFt>3998</lotSizeSqFt><finishedSqFt>2550</finishedSqFt><bathrooms>1.5</bathrooms><bedrooms>3</bedrooms><lastSoldDate>08/05/2016</lastSoldDate><lastSoldPrice currency=\"USD\">1195000</lastSoldPrice><zestimate><amount currency=\"USD\">1210988</amount><last-updated>12/11/2016</last-updated><oneWeekChange deprecated=\"true\"/><valueChange currency=\"USD\" duration=\"30\">-1080</valueChange><valuationRange><low currency=\"USD\">1041450</low><high currency=\"USD\">1332087</high></valuationRange><percentile>93</percentile></zestimate><localRealEstate><region id=\"271856\" name=\"East Queen Anne\" type=\"neighborhood\"><zindexValue>821,600</zindexValue><links><overview>http://www.zillow.com/local-info/WA-Seattle/East-Queen-Anne/r_271856/</overview><forSaleByOwner>http://www.zillow.com/east-queen-anne-seattle-wa/fsbo/</forSaleByOwner><forSale>http://www.zillow.com/east-queen-anne-seattle-wa/</forSale></links></region></localRealEstate></comp><comp score=\"9.0\"><zpid>48689898</zpid><links><homedetails>http://www.zillow.com/homedetails/1623-3rd-Ave-N-Seattle-WA-98109/48689898_zpid/</homedetails><graphsanddata>http://www.zillow.com/homedetails/1623-3rd-Ave-N-Seattle-WA-98109/48689898_zpid/#charts-and-data</graphsanddata><mapthishome>http://www.zillow.com/homes/48689898_zpid/</mapthishome><comparables>http://www.zillow.com/homes/comps/48689898_zpid/</comparables></links><address><street>1623 3rd Ave N</street><zipcode>98109</zipcode><city>Seattle</city><state>WA</state><latitude>47.633856</latitude><longitude>-122.352234</longitude></address><taxAssessmentYear>2015</taxAssessmentYear><taxAssessment>861000.0</taxAssessment><yearBuilt>1968</yearBuilt><lotSizeSqFt>3118</lotSizeSqFt><finishedSqFt>2700</finishedSqFt><bathrooms>2.0</bathrooms><bedrooms>4</bedrooms><totalRooms>8</totalRooms><lastSoldDate>07/15/2016</lastSoldDate><lastSoldPrice currency=\"USD\">995000</lastSoldPrice><zestimate><amount currency=\"USD\">1144200</amount><last-updated>12/11/2016</last-updated><oneWeekChange deprecated=\"true\"/><valueChange currency=\"USD\" duration=\"30\">6928</valueChange><valuationRange><low currency=\"USD\">1075548</low><high currency=\"USD\">1201410</high></valuationRange><percentile>92</percentile></zestimate><localRealEstate><region id=\"271856\" name=\"East Queen Anne\" type=\"neighborhood\"><zindexValue>821,600</zindexValue><links><overview>http://www.zillow.com/local-info/WA-Seattle/East-Queen-Anne/r_271856/</overview><forSaleByOwner>http://www.zillow.com/east-queen-anne-seattle-wa/fsbo/</forSaleByOwner><forSale>http://www.zillow.com/east-queen-anne-seattle-wa/</forSale></links></region></localRealEstate></comp><comp score=\"11.0\"><zpid>48689930</zpid><links><homedetails>http://www.zillow.com/homedetails/208-Hayes-St-Seattle-WA-98109/48689930_zpid/</homedetails><graphsanddata>http://www.zillow.com/homedetails/208-Hayes-St-Seattle-WA-98109/48689930_zpid/#charts-and-data</graphsanddata><mapthishome>http://www.zillow.com/homes/48689930_zpid/</mapthishome><comparables>http://www.zillow.com/homes/comps/48689930_zpid/</comparables></links><address><street>208 Hayes St</street><zipcode>98109</zipcode><city>Seattle</city><state>WA</state><latitude>47.634187</latitude><longitude>-122.352676</longitude></address><taxAssessmentYear>2015</taxAssessmentYear><taxAssessment>699000.0</taxAssessment><yearBuilt>1918</yearBuilt><lotSizeSqFt>2760</lotSizeSqFt><finishedSqFt>2000</finishedSqFt><bathrooms>2.0</bathrooms><bedrooms>3</bedrooms><totalRooms>6</totalRooms><lastSoldDate>06/17/2016</lastSoldDate><lastSoldPrice currency=\"USD\">950000</lastSoldPrice><zestimate><amount currency=\"USD\">1038640</amount><last-updated>12/11/2016</last-updated><oneWeekChange deprecated=\"true\"/><valueChange currency=\"USD\" duration=\"30\">-8741</valueChange><valuationRange><low currency=\"USD\">945162</low><high currency=\"USD\">1215209</high></valuationRange><percentile>90</percentile></zestimate><localRealEstate><region id=\"271856\" name=\"East Queen Anne\" type=\"neighborhood\"><zindexValue>821,600</zindexValue><links><overview>http://www.zillow.com/local-info/WA-Seattle/East-Queen-Anne/r_271856/</overview><forSaleByOwner>http://www.zillow.com/east-queen-anne-seattle-wa/fsbo/</forSaleByOwner><forSale>http://www.zillow.com/east-queen-anne-seattle-wa/</forSale></links></region></localRealEstate></comp><comp score=\"4.0\"><zpid>48689942</zpid><links><homedetails>http://www.zillow.com/homedetails/1704-3rd-Ave-N-Seattle-WA-98109/48689942_zpid/</homedetails><graphsanddata>http://www.zillow.com/homedetails/1704-3rd-Ave-N-Seattle-WA-98109/48689942_zpid/#charts-and-data</graphsanddata><mapthishome>http://www.zillow.com/homes/48689942_zpid/</mapthishome><comparables>http://www.zillow.com/homes/comps/48689942_zpid/</comparables></links><address><street>1704 3rd Ave N</street><zipcode>98109</zipcode><city>Seattle</city><state>WA</state><latitude>47.634159</latitude><longitude>-122.351703</longitude></address><taxAssessmentYear>2015</taxAssessmentYear><taxAssessment>1163000.0</taxAssessment><yearBuilt>1905</yearBuilt><lotSizeSqFt>7000</lotSizeSqFt><finishedSqFt>3400</finishedSqFt><bathrooms>4.0</bathrooms><bedrooms>4</bedrooms><totalRooms>14</totalRooms><lastSoldDate>04/27/2016</lastSoldDate><lastSoldPrice currency=\"USD\">1775000</lastSoldPrice><zestimate><amount currency=\"USD\">1628329</amount><last-updated>12/11/2016</last-updated><oneWeekChange deprecated=\"true\"/><valueChange currency=\"USD\" duration=\"30\">5235</valueChange><valuationRange><low currency=\"USD\">1546913</low><high currency=\"USD\">1709745</high></valuationRange><percentile>97</percentile></zestimate><localRealEstate><region id=\"271856\" name=\"East Queen Anne\" type=\"neighborhood\"><zindexValue>821,600</zindexValue><links><overview>http://www.zillow.com/local-info/WA-Seattle/East-Queen-Anne/r_271856/</overview><forSaleByOwner>http://www.zillow.com/east-queen-anne-seattle-wa/fsbo/</forSaleByOwner><forSale>http://www.zillow.com/east-queen-anne-seattle-wa/</forSale></links></region></localRealEstate></comp><comp score=\"6.0\"><zpid>48689944</zpid><links><homedetails>http://www.zillow.com/homedetails/1712-3rd-Ave-N-Seattle-WA-98109/48689944_zpid/</homedetails><graphsanddata>http://www.zillow.com/homedetails/1712-3rd-Ave-N-Seattle-WA-98109/48689944_zpid/#charts-and-data</graphsanddata><mapthishome>http://www.zillow.com/homes/48689944_zpid/</mapthishome><comparables>http://www.zillow.com/homes/comps/48689944_zpid/</comparables></links><address><street>1712 3rd Ave N</street><zipcode>98109</zipcode><city>Seattle</city><state>WA</state><latitude>47.634433</latitude><longitude>-122.351618</longitude></address><taxAssessmentYear>2015</taxAssessmentYear><taxAssessment>982000.0</taxAssessment><yearBuilt>1906</yearBuilt><lotSizeSqFt>6098</lotSizeSqFt><finishedSqFt>3890</finishedSqFt><bathrooms>3.1</bathrooms><bedrooms>4</bedrooms><lastSoldDate>06/10/2016</lastSoldDate><lastSoldPrice currency=\"USD\">2150000</lastSoldPrice><zestimate><amount currency=\"USD\">1698856</amount><last-updated>12/11/2016</last-updated><oneWeekChange deprecated=\"true\"/><valueChange currency=\"USD\" duration=\"30\">-44011</valueChange><valuationRange><low currency=\"USD\">1494993</low><high currency=\"USD\">1902719</high></valuationRange><percentile>97</percentile></zestimate><localRealEstate><region id=\"271856\" name=\"East Queen Anne\" type=\"neighborhood\"><zindexValue>821,600</zindexValue><links><overview>http://www.zillow.com/local-info/WA-Seattle/East-Queen-Anne/r_271856/</overview><forSaleByOwner>http://www.zillow.com/east-queen-anne-seattle-wa/fsbo/</forSaleByOwner><forSale>http://www.zillow.com/east-queen-anne-seattle-wa/</forSale></links></region></localRealEstate></comp></comparables></properties></response></Comps:comps><!-- H:004  T:133ms  S:5881  R:Mon Dec 12 12:27:53 PST 2016  B:5.0.37129-master.14ddae3~hotfix_pre.f5afe55 -->\n"
     ]
    }
   ],
   "source": [
    "print (soup)"
   ]
  },
  {
   "cell_type": "code",
   "execution_count": 56,
   "metadata": {
    "collapsed": false
   },
   "outputs": [
    {
     "name": "stdout",
     "output_type": "stream",
     "text": [
      "<address><street>2114 Bigelow Ave N</street><zipcode>98109</zipcode><city>Seattle</city><state>WA</state><latitude>47.637933</latitude><longitude>-122.347938</longitude></address>\n",
      "['2114 Bigelow Ave N', '409 Garfield St', '1623 3rd Ave N', '208 Hayes St', '1704 3rd Ave N', '1712 3rd Ave N']\n"
     ]
    }
   ],
   "source": [
    "print(soup.find('address'))\n",
    "anchors = [address.find('street').text for address in soup.findAll('address')]\n",
    "#anchors = [a for a in (td.find('street') for td in soup.findAll('address')) if a]\n",
    "#anchors = [a for a in (td.find('address')) for td in soup.findAll('td')) if a]\n",
    "print(anchors)\n",
    "#print(anchors[0].find('street'))\n"
   ]
  },
  {
   "cell_type": "code",
   "execution_count": 35,
   "metadata": {
    "collapsed": false
   },
   "outputs": [
    {
     "name": "stdout",
     "output_type": "stream",
     "text": [
      "{'lastSoldPrice': '1025000', 'lotSizeSqFt': '4680', 'lastSoldDate': '11/26/2008', 'bedrooms': '4', 'bathrooms': '3.0', 'finishedSqFt': '3470', 'yearBuilt': '1924', 'address': '2114 Bigelow Ave N98109SeattleWA47.637933-122.347938'}\n"
     ]
    }
   ],
   "source": [
    "print (house)"
   ]
  },
  {
   "cell_type": "markdown",
   "metadata": {},
   "source": [
    "### Cool! I know how to get the data I want!!!"
   ]
  }
 ],
 "metadata": {
  "anaconda-cloud": {},
  "kernelspec": {
   "display_name": "Python [default]",
   "language": "python",
   "name": "python3"
  },
  "language_info": {
   "codemirror_mode": {
    "name": "ipython",
    "version": 3
   },
   "file_extension": ".py",
   "mimetype": "text/x-python",
   "name": "python",
   "nbconvert_exporter": "python",
   "pygments_lexer": "ipython3",
   "version": "3.5.2"
  }
 },
 "nbformat": 4,
 "nbformat_minor": 1
}
