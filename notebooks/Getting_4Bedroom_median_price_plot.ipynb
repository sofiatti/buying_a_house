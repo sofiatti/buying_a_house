{
 "cells": [
  {
   "cell_type": "code",
   "execution_count": 1,
   "metadata": {
    "collapsed": false
   },
   "outputs": [],
   "source": [
    "import matplotlib.pyplot as plt\n",
    "import datetime as dt\n",
    "import seaborn as sns\n",
    "import pandas as pd\n",
    "import numpy as np\n",
    "import jinja2\n",
    "import json\n",
    "\n",
    "import mpld3\n",
    "from mpld3 import plugins, utils, fig_to_html\n",
    "mpld3.enable_notebook()"
   ]
  },
  {
   "cell_type": "code",
   "execution_count": 2,
   "metadata": {
    "collapsed": false
   },
   "outputs": [],
   "source": [
    "df_4bedroom = pd.DataFrame.from_csv('../ZillowData/Neighborhood_Zhvi_4bedroom.csv')\n",
    "df = df_4bedroom.query('Metro==\"San Francisco\"')"
   ]
  },
  {
   "cell_type": "code",
   "execution_count": 3,
   "metadata": {
    "collapsed": false
   },
   "outputs": [],
   "source": [
    "relevant_columns = list(df)\n",
    "relevant_columns.remove('State') \n",
    "relevant_columns.remove('Metro')\n",
    "relevant_columns.remove('SizeRank')\n",
    "\n",
    "df = df[relevant_columns]\n",
    "dates = relevant_columns[3:]\n",
    "\n",
    "matrix = df.as_matrix()\n",
    "x = [dt.datetime.strptime(d,'%Y-%m').date() for d in dates]"
   ]
  },
  {
   "cell_type": "code",
   "execution_count": 4,
   "metadata": {
    "collapsed": false
   },
   "outputs": [],
   "source": [
    "# print(matrix[:,0])"
   ]
  },
  {
   "cell_type": "code",
   "execution_count": 5,
   "metadata": {
    "collapsed": false
   },
   "outputs": [],
   "source": [
    "neigh_city = matrix[:,:2]\n",
    "labels = ['%s, %s' %(neigh_city[i,0], neigh_city[i,1]) for i in range(len(neigh_city))]"
   ]
  },
  {
   "cell_type": "code",
   "execution_count": 6,
   "metadata": {
    "collapsed": false
   },
   "outputs": [],
   "source": [
    "# print (labels)"
   ]
  },
  {
   "cell_type": "code",
   "execution_count": 7,
   "metadata": {
    "collapsed": true
   },
   "outputs": [],
   "source": [
    "median_prices = matrix[:,3:]"
   ]
  },
  {
   "cell_type": "code",
   "execution_count": 8,
   "metadata": {
    "collapsed": false
   },
   "outputs": [
    {
     "name": "stdout",
     "output_type": "stream",
     "text": [
      "\n",
      "Note: if you're in the IPython notebook, mpld3.show() is not the best command\n",
      "      to use. Consider using mpld3.display(), or mpld3.enable_notebook().\n",
      "      See more information at http://mpld3.github.io/quickstart.html .\n",
      "\n",
      "You must interrupt the kernel to end this command\n",
      "\n",
      "Serving to http://127.0.0.1:8889/    [Ctrl-C to exit]\n"
     ]
    },
    {
     "name": "stderr",
     "output_type": "stream",
     "text": [
      "127.0.0.1 - - [09/Dec/2016 16:57:40] \"GET / HTTP/1.1\" 200 -\n",
      "127.0.0.1 - - [09/Dec/2016 16:57:40] \"GET /d3.js HTTP/1.1\" 200 -\n",
      "127.0.0.1 - - [09/Dec/2016 16:57:40] \"GET /mpld3.js HTTP/1.1\" 200 -\n"
     ]
    },
    {
     "name": "stdout",
     "output_type": "stream",
     "text": [
      "\n",
      "stopping Server...\n"
     ]
    }
   ],
   "source": [
    "class HighlightLines(plugins.PluginBase):\n",
    "    \"\"\"A plugin to highlight lines on hover\"\"\"\n",
    "\n",
    "    JAVASCRIPT = \"\"\"\n",
    "    mpld3.register_plugin(\"linehighlight\", LineHighlightPlugin);\n",
    "    LineHighlightPlugin.prototype = Object.create(mpld3.Plugin.prototype);\n",
    "    LineHighlightPlugin.prototype.constructor = LineHighlightPlugin;\n",
    "    LineHighlightPlugin.prototype.requiredProps = [\"line_ids\"];\n",
    "    LineHighlightPlugin.prototype.defaultProps = {alpha_bg:0.3, alpha_fg:1.0}\n",
    "    function LineHighlightPlugin(fig, props){\n",
    "        mpld3.Plugin.call(this, fig, props);\n",
    "    };\n",
    "\n",
    "    LineHighlightPlugin.prototype.draw = function(){\n",
    "      for(var i=0; i<this.props.line_ids.length; i++){\n",
    "         var obj = mpld3.get_element(this.props.line_ids[i], this.fig),\n",
    "             alpha_fg = this.props.alpha_fg;\n",
    "             alpha_bg = this.props.alpha_bg;\n",
    "         obj.elements()\n",
    "             .on(\"mouseover\", function(d, i){\n",
    "                            d3.select(this).transition().duration(50)\n",
    "                              .style(\"stroke-opacity\", alpha_fg); })\n",
    "             .on(\"mouseout\", function(d, i){\n",
    "                            d3.select(this).transition().duration(200)\n",
    "                              .style(\"stroke-opacity\", alpha_bg); });\n",
    "      }\n",
    "    };\n",
    "    \"\"\"\n",
    "\n",
    "    def __init__(self, lines):\n",
    "        self.lines = lines\n",
    "        self.dict_ = {\"type\": \"linehighlight\",\n",
    "                      \"line_ids\": [utils.get_id(line) for line in lines],\n",
    "                      \"alpha_bg\": lines[0].get_alpha(),\n",
    "                      \"alpha_fg\": 1.0}\n",
    "        \n",
    "class LineLabelTooltip(plugins.PluginBase):\n",
    "    \"\"\"A Plugin to enable a tooltip: text which hovers over a line.\n",
    "\n",
    "    Parameters\n",
    "    ----------\n",
    "    line : matplotlib Line2D object\n",
    "        The figure element to apply the tooltip to\n",
    "    label : string\n",
    "        If supplied, specify the labels for each point in points.  If not\n",
    "        supplied, the (x, y) values will be used.\n",
    "    hoffset, voffset : integer\n",
    "        The number of pixels to offset the tooltip text.  Default is\n",
    "        hoffset = 0, voffset = 10\n",
    "\n",
    "    Examples\n",
    "    --------\n",
    "    >>> import matplotlib.pyplot as plt\n",
    "    >>> from mpld3 import fig_to_html, plugins\n",
    "    >>> fig, ax = plt.subplots()\n",
    "    >>> lines = ax.plot(range(10), 'o')\n",
    "    >>> plugins.connect(fig, LineLabelTooltip(lines[0]))\n",
    "    >>> fig_to_html(fig)\n",
    "    \"\"\"\n",
    "    def __init__(self, points, label=None,\n",
    "                 hoffset=0, voffset=10, location=\"mouse\"):\n",
    "        if location not in [\"bottom left\", \"top left\", \"bottom right\",\n",
    "                            \"top right\", \"mouse\"]:\n",
    "            raise ValueError(\"invalid location: {0}\".format(location))\n",
    "        self.dict_ = {\"type\": \"tooltip\",\n",
    "                      \"id\": utils.get_id(points),\n",
    "                      \"labels\": label if label is None else [label],\n",
    "                      \"hoffset\": hoffset,\n",
    "                      \"voffset\": voffset,\n",
    "                      \"location\": location}\n",
    "\n",
    "fig, ax = plt.subplots(subplot_kw={})\n",
    "lines = ax.plot(x, median_prices.T, color=sns.xkcd_rgb[\"denim blue\"], lw=4, alpha=0.1)\n",
    "ax.set_xlabel = 'Median Price'\n",
    "ax.set_ylabel = 'Year'\n",
    "ax.set_title = '4 Bedroom Homes in the Bay Area'\n",
    "\n",
    "plugins.connect(fig, HighlightLines(lines))\n",
    "plugins.connect(fig, LineLabelTooltip(lines[0], labels))\n",
    "\n",
    "#fig_to_html(fig)\n",
    "mpld3.show()"
   ]
  },
  {
   "cell_type": "code",
   "execution_count": null,
   "metadata": {
    "collapsed": true
   },
   "outputs": [],
   "source": []
  }
 ],
 "metadata": {
  "anaconda-cloud": {},
  "kernelspec": {
   "display_name": "Python [default]",
   "language": "python",
   "name": "python3"
  },
  "language_info": {
   "codemirror_mode": {
    "name": "ipython",
    "version": 3
   },
   "file_extension": ".py",
   "mimetype": "text/x-python",
   "name": "python",
   "nbconvert_exporter": "python",
   "pygments_lexer": "ipython3",
   "version": "3.5.2"
  }
 },
 "nbformat": 4,
 "nbformat_minor": 1
}
